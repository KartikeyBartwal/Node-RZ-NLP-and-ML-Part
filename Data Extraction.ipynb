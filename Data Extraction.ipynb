{
 "cells": [
  {
   "cell_type": "code",
   "execution_count": 4,
   "id": "d9e2019a",
   "metadata": {},
   "outputs": [],
   "source": [
    "import numpy as np\n",
    "import pandas as pd"
   ]
  },
  {
   "cell_type": "code",
   "execution_count": 5,
   "id": "253d75f2",
   "metadata": {},
   "outputs": [],
   "source": [
    "df = pd.read_excel(\"web app designs for nodered.xlsx\")"
   ]
  },
  {
   "cell_type": "code",
   "execution_count": 7,
   "id": "fcb3ef62",
   "metadata": {},
   "outputs": [
    {
     "data": {
      "text/plain": [
       "Index(['Unnamed: 0', 'Type of Website', 'Description of the Website',\n",
       "       'example websites ', 'flow.json'],\n",
       "      dtype='object')"
      ]
     },
     "execution_count": 7,
     "metadata": {},
     "output_type": "execute_result"
    }
   ],
   "source": [
    "df.columns"
   ]
  },
  {
   "cell_type": "code",
   "execution_count": 10,
   "id": "75a0d8fb",
   "metadata": {},
   "outputs": [],
   "source": [
    "def AddRecord():\n",
    "    website_type = input(\"Type of the website:\")\n",
    "    website_description = input(\"Description of the website:\")\n",
    "    example_websites = input(\"Example Websites:\")\n",
    "    flow_json_code = input(\"Flow.json code: \")\n",
    "    \n",
    "    \n",
    "    record = [website_type , website_description , example_websites , flow_json_code]\n",
    "    df.loc[len(df.index)] = record\n",
    "    df.to_excel(\"web app designs for nodered.xlsx\")    "
   ]
  },
  {
   "cell_type": "code",
   "execution_count": 9,
   "id": "0ab81d98",
   "metadata": {},
   "outputs": [
    {
     "name": "stdout",
     "output_type": "stream",
     "text": [
      "Type of the website:Social Media Platform\n",
      "Description of the website:Connecting and interacting with others, sharing content.\n",
      "Example Websites:Facebook, Twitter, Instagram\n",
      "Flow.json code: [   {     \"id\": \"1\",     \"type\": \"http in\",     \"name\": \"User Registration\",     \"method\": \"post\",     \"url\": \"/register-user\",     \"upload\": false,     \"swaggerDoc\": \"\",     \"x\": 160,     \"y\": 160,     \"wires\": [[\"2\"]]   },   {     \"id\": \"2\",     \"type\": \"function\",     \"name\": \"Process User Registration\",     \"func\": \"var userRegistrationDetails = msg.payload;\\n\\n// Simulated user registration logic\\n// Example: database.registerUser(userRegistrationDetails);\\n\\nmsg.payload = {\\n  status: 'UserRegistered',\\n  message: 'User registered successfully.',\\n  userId: 'USER123',\\n  userDetails: userRegistrationDetails\\n};\\n\\nreturn msg;\",     \"outputs\": 1,     \"noerr\": 0,     \"initialize\": \"\",     \"finalize\": \"\",     \"libs\": [],     \"x\": 370,     \"y\": 160,     \"wires\": [[\"3\"]]   },   {     \"id\": \"3\",     \"type\": \"http response\",     \"name\": \"Respond to User Registration\",     \"statusCode\": \"\",     \"headers\": {},     \"x\": 590,     \"y\": 160,     \"wires\": []   },   {     \"id\": \"4\",     \"type\": \"http in\",     \"name\": \"Share Post\",     \"method\": \"post\",     \"url\": \"/share-post\",     \"upload\": true,     \"swaggerDoc\": \"\",     \"x\": 160,     \"y\": 300,     \"wires\": [[\"5\"]]   },   {     \"id\": \"5\",     \"type\": \"function\",     \"name\": \"Process Post Sharing\",     \"func\": \"var postDetails = msg.payload;\\nvar postFile = msg.attachments[0].data;\\n\\n// Simulated post sharing logic\\n// Example: postService.sharePost(postDetails, postFile);\\n\\nmsg.payload = {\\n  status: 'PostShared',\\n  message: 'Post shared successfully.',\\n  postDetails: postDetails\\n};\\n\\nreturn msg;\",     \"outputs\": 1,     \"noerr\": 0,     \"initialize\": \"\",     \"finalize\": \"\",     \"libs\": [],     \"x\": 370,     \"y\": 300,     \"wires\": [[\"6\"]]   },   {     \"id\": \"6\",     \"type\": \"http response\",     \"name\": \"Respond to Post Sharing\",     \"statusCode\": \"\",     \"headers\": {},     \"x\": 590,     \"y\": 300,     \"wires\": []   },   {     \"id\": \"7\",     \"type\": \"http in\",     \"name\": \"View Post\",     \"method\": \"get\",     \"url\": \"/view-post\",     \"upload\": false,     \"swaggerDoc\": \"\",     \"x\": 160,     \"y\": 440,     \"wires\": [[\"8\"]]   },   {     \"id\": \"8\",     \"type\": \"function\",     \"name\": \"Fetch Post Details\",     \"func\": \"var postId = msg.query.postId;\\n\\n// Simulated post retrieval logic\\n// Example: postService.getPostDetails(postId);\\n\\nvar postDetails = {\\n  postId: postId,\\n  // ... other details\\n};\\n\\nmsg.payload = {\\n  status: 'PostFetched',\\n  message: 'Post details fetched successfully.',\\n  postDetails: postDetails\\n};\\n\\nreturn msg;\",     \"outputs\": 1,     \"noerr\": 0,     \"initialize\": \"\",     \"finalize\": \"\",     \"libs\": [],     \"x\": 370,     \"y\": 440,     \"wires\": [[\"9\"]]   },   {     \"id\": \"9\",     \"type\": \"http response\",     \"name\": \"Respond with Post Details\",     \"statusCode\": \"\",     \"headers\": {},     \"x\": 590,     \"y\": 440,     \"wires\": []   },   {     \"id\": \"10\",     \"type\": \"http in\",     \"name\": \"Add Comment\",     \"method\": \"post\",     \"url\": \"/add-comment\",     \"upload\": false,     \"swaggerDoc\": \"\",     \"x\": 160,     \"y\": 580,     \"wires\": [[\"11\"]]   },   {     \"id\": \"11\",     \"type\": \"function\",     \"name\": \"Process Comment Addition\",     \"func\": \"var commentDetails = msg.payload;\\n\\n// Simulated comment addition logic\\n// Example: postService.addComment(commentDetails);\\n\\nmsg.payload = {\\n  status: 'CommentAdded',\\n  message: 'Comment added successfully.',\\n  commentDetails: commentDetails\\n};\\n\\nreturn msg;\",     \"outputs\": 1,     \"noerr\": 0,     \"initialize\": \"\",     \"finalize\": \"\",     \"libs\": [],     \"x\": 370,     \"y\": 580,     \"wires\": [[\"12\"]]   },   {     \"id\": \"12\",     \"type\": \"http response\",     \"name\": \"Respond to Comment Addition\",     \"statusCode\": \"\",     \"headers\": {},     \"x\": 590,     \"y\": 580,     \"wires\": []   },   {     \"id\": \"13\",     \"type\": \"http in\",     \"name\": \"Like Post\",     \"method\": \"post\",     \"url\": \"/like-post\",     \"upload\": false,     \"swaggerDoc\": \"\",     \"x\": 160,     \"y\": 720,     \"wires\": [[\"14\"]]   },   {     \"id\": \"14\",     \"type\": \"function\",     \"name\": \"Process Post Like\",     \"func\": \"var likeDetails = msg.payload;\\n\\n// Simulated post like logic\\n// Example: postService.likePost(likeDetails);\\n\\nmsg.payload = {\\n  status: 'PostLiked',\\n  message: 'Post liked successfully.',\\n  likeDetails: likeDetails\\n};\\n\\nreturn msg;\",     \"outputs\": 1,     \"noerr\": 0,     \"initialize\": \"\",     \"finalize\": \"\",     \"libs\": [],     \"x\": 370,     \"y\": 720,     \"wires\": [[\"15\"]]   },   {     \"id\": \"15\",     \"type\": \"http response\",     \"name\": \"Respond to Post Like\",     \"statusCode\": \"\",     \"headers\": {},     \"x\": 590,     \"y\": 720,     \"wires\": []   },   {     \"id\": \"16\",     \"type\": \"http in\",     \"name\": \"User Interaction\",     \"method\": \"post\",     \"url\": \"/user-interaction\",     \"upload\": false,     \"swaggerDoc\": \"\",     \"x\": 160,     \"y\": 860,     \"wires\": [[\"17\"]]   },   {     \"id\": \"17\",     \"type\": \"function\",     \"name\": \"Process User Interaction\",     \"func\": \"var interactionDetails = msg.payload;\\n\\n// Simulated user interaction logic\\n// Example: analytics.trackUserInteraction(interactionDetails);\\n\\nmsg.payload = {\\n  status: 'InteractionProcessed',\\n  message: 'User interaction processed successfully.',\\n  interactionDetails: interactionDetails\\n};\\n\\nreturn msg;\",     \"outputs\": 1,     \"noerr\": 0,     \"initialize\": \"\",     \"finalize\": \"\",     \"libs\": [],     \"x\": 370,     \"y\": 860,     \"wires\": [[\"18\"]]   },   {     \"id\": \"18\",     \"type\": \"http response\",     \"name\": \"Respond to User Interaction\",     \"statusCode\": \"\",     \"headers\": {},     \"x\": 590,     \"y\": 860,     \"wires\": []   },   {     \"id\": \"19\",     \"type\": \"function\",     \"name\": \"Generate Social Media Report\",     \"func\": \"// Simulated social media report generation logic\\nvar userDetails = msg.payload;\\nvar report = 'Social Media Report for ' + userDetails.userId + ':\\n' +\\n  'Total Posts: ' + userDetails.posts.length + '\\n' +\\n  'Total Comments: ' + userDetails.comments.length + '\\n' +\\n  'Total Likes: ' + userDetails.likes.length;\\n\\nmsg.payload = {\\n  status: 'Success',\\n  message: 'Social media report generated successfully.',\\n  report: report\\n};\\n\\nreturn msg;\",     \"outputs\": 1,     \"noerr\": 0,     \"initialize\": \"\",     \"finalize\": \"\",     \"libs\": [],     \"x\": 800,     \"y\": 860,     \"wires\": [[\"20\"]]   },   {     \"id\": \"20\",     \"type\": \"http response\",     \"name\": \"Respond with Social Media Report\",     \"statusCode\": \"\",     \"headers\": {},     \"x\": 1020,     \"y\": 860,     \"wires\": []   } ]\n"
     ]
    },
    {
     "ename": "ValueError",
     "evalue": "cannot set a row with mismatched columns",
     "output_type": "error",
     "traceback": [
      "\u001b[0;31m---------------------------------------------------------------------------\u001b[0m",
      "\u001b[0;31mValueError\u001b[0m                                Traceback (most recent call last)",
      "Cell \u001b[0;32mIn[9], line 1\u001b[0m\n\u001b[0;32m----> 1\u001b[0m AddRecord()\n",
      "Cell \u001b[0;32mIn[8], line 9\u001b[0m, in \u001b[0;36mAddRecord\u001b[0;34m()\u001b[0m\n\u001b[1;32m      5\u001b[0m flow_json_code \u001b[38;5;241m=\u001b[39m \u001b[38;5;28minput\u001b[39m(\u001b[38;5;124m\"\u001b[39m\u001b[38;5;124mFlow.json code: \u001b[39m\u001b[38;5;124m\"\u001b[39m)\n\u001b[1;32m      8\u001b[0m record \u001b[38;5;241m=\u001b[39m [website_type , website_description , example_websites , flow_json_code]\n\u001b[0;32m----> 9\u001b[0m df\u001b[38;5;241m.\u001b[39mloc[\u001b[38;5;28mlen\u001b[39m(df\u001b[38;5;241m.\u001b[39mindex)] \u001b[38;5;241m=\u001b[39m record\n",
      "File \u001b[0;32m~/Technical_Stuffs/anaconda3/lib/python3.11/site-packages/pandas/core/indexing.py:849\u001b[0m, in \u001b[0;36m_LocationIndexer.__setitem__\u001b[0;34m(self, key, value)\u001b[0m\n\u001b[1;32m    846\u001b[0m \u001b[38;5;28mself\u001b[39m\u001b[38;5;241m.\u001b[39m_has_valid_setitem_indexer(key)\n\u001b[1;32m    848\u001b[0m iloc \u001b[38;5;241m=\u001b[39m \u001b[38;5;28mself\u001b[39m \u001b[38;5;28;01mif\u001b[39;00m \u001b[38;5;28mself\u001b[39m\u001b[38;5;241m.\u001b[39mname \u001b[38;5;241m==\u001b[39m \u001b[38;5;124m\"\u001b[39m\u001b[38;5;124miloc\u001b[39m\u001b[38;5;124m\"\u001b[39m \u001b[38;5;28;01melse\u001b[39;00m \u001b[38;5;28mself\u001b[39m\u001b[38;5;241m.\u001b[39mobj\u001b[38;5;241m.\u001b[39miloc\n\u001b[0;32m--> 849\u001b[0m iloc\u001b[38;5;241m.\u001b[39m_setitem_with_indexer(indexer, value, \u001b[38;5;28mself\u001b[39m\u001b[38;5;241m.\u001b[39mname)\n",
      "File \u001b[0;32m~/Technical_Stuffs/anaconda3/lib/python3.11/site-packages/pandas/core/indexing.py:1825\u001b[0m, in \u001b[0;36m_iLocIndexer._setitem_with_indexer\u001b[0;34m(self, indexer, value, name)\u001b[0m\n\u001b[1;32m   1822\u001b[0m     indexer, missing \u001b[38;5;241m=\u001b[39m convert_missing_indexer(indexer)\n\u001b[1;32m   1824\u001b[0m     \u001b[38;5;28;01mif\u001b[39;00m missing:\n\u001b[0;32m-> 1825\u001b[0m         \u001b[38;5;28mself\u001b[39m\u001b[38;5;241m.\u001b[39m_setitem_with_indexer_missing(indexer, value)\n\u001b[1;32m   1826\u001b[0m         \u001b[38;5;28;01mreturn\u001b[39;00m\n\u001b[1;32m   1828\u001b[0m \u001b[38;5;28;01mif\u001b[39;00m name \u001b[38;5;241m==\u001b[39m \u001b[38;5;124m\"\u001b[39m\u001b[38;5;124mloc\u001b[39m\u001b[38;5;124m\"\u001b[39m:\n\u001b[1;32m   1829\u001b[0m     \u001b[38;5;66;03m# must come after setting of missing\u001b[39;00m\n",
      "File \u001b[0;32m~/Technical_Stuffs/anaconda3/lib/python3.11/site-packages/pandas/core/indexing.py:2158\u001b[0m, in \u001b[0;36m_iLocIndexer._setitem_with_indexer_missing\u001b[0;34m(self, indexer, value)\u001b[0m\n\u001b[1;32m   2155\u001b[0m     \u001b[38;5;28;01mif\u001b[39;00m is_list_like_indexer(value):\n\u001b[1;32m   2156\u001b[0m         \u001b[38;5;66;03m# must have conforming columns\u001b[39;00m\n\u001b[1;32m   2157\u001b[0m         \u001b[38;5;28;01mif\u001b[39;00m \u001b[38;5;28mlen\u001b[39m(value) \u001b[38;5;241m!=\u001b[39m \u001b[38;5;28mlen\u001b[39m(\u001b[38;5;28mself\u001b[39m\u001b[38;5;241m.\u001b[39mobj\u001b[38;5;241m.\u001b[39mcolumns):\n\u001b[0;32m-> 2158\u001b[0m             \u001b[38;5;28;01mraise\u001b[39;00m \u001b[38;5;167;01mValueError\u001b[39;00m(\u001b[38;5;124m\"\u001b[39m\u001b[38;5;124mcannot set a row with mismatched columns\u001b[39m\u001b[38;5;124m\"\u001b[39m)\n\u001b[1;32m   2160\u001b[0m     value \u001b[38;5;241m=\u001b[39m Series(value, index\u001b[38;5;241m=\u001b[39m\u001b[38;5;28mself\u001b[39m\u001b[38;5;241m.\u001b[39mobj\u001b[38;5;241m.\u001b[39mcolumns, name\u001b[38;5;241m=\u001b[39mindexer)\n\u001b[1;32m   2162\u001b[0m \u001b[38;5;28;01mif\u001b[39;00m \u001b[38;5;129;01mnot\u001b[39;00m \u001b[38;5;28mlen\u001b[39m(\u001b[38;5;28mself\u001b[39m\u001b[38;5;241m.\u001b[39mobj):\n\u001b[1;32m   2163\u001b[0m     \u001b[38;5;66;03m# We will ignore the existing dtypes instead of using\u001b[39;00m\n\u001b[1;32m   2164\u001b[0m     \u001b[38;5;66;03m#  internals.concat logic\u001b[39;00m\n",
      "\u001b[0;31mValueError\u001b[0m: cannot set a row with mismatched columns"
     ]
    }
   ],
   "source": [
    "AddRecord()"
   ]
  },
  {
   "cell_type": "code",
   "execution_count": 11,
   "id": "b5483fea",
   "metadata": {},
   "outputs": [],
   "source": [
    "df.to_excel(\"web app designs for nodered.xlsx\")    "
   ]
  },
  {
   "cell_type": "code",
   "execution_count": 44,
   "id": "354aa71e",
   "metadata": {},
   "outputs": [],
   "source": []
  },
  {
   "cell_type": "code",
   "execution_count": null,
   "id": "42785001",
   "metadata": {},
   "outputs": [],
   "source": [
    "\n"
   ]
  }
 ],
 "metadata": {
  "kernelspec": {
   "display_name": "Python 3 (ipykernel)",
   "language": "python",
   "name": "python3"
  },
  "language_info": {
   "codemirror_mode": {
    "name": "ipython",
    "version": 3
   },
   "file_extension": ".py",
   "mimetype": "text/x-python",
   "name": "python",
   "nbconvert_exporter": "python",
   "pygments_lexer": "ipython3",
   "version": "3.11.5"
  }
 },
 "nbformat": 4,
 "nbformat_minor": 5
}
