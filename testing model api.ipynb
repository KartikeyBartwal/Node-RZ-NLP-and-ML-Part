{
 "cells": [
  {
   "cell_type": "code",
   "execution_count": 20,
   "id": "31da7623",
   "metadata": {},
   "outputs": [
    {
     "name": "stdout",
     "output_type": "stream",
     "text": [
      "Python 3.9.18\r\n"
     ]
    }
   ],
   "source": [
    "!python --version"
   ]
  },
  {
   "cell_type": "code",
   "execution_count": 22,
   "id": "ac0fd4f3",
   "metadata": {},
   "outputs": [],
   "source": [
    "REPLICATE_API_TOKEN = \"r8_1tXV1Jxf2JBIiunu0PrGCEuYgOabv251OjQ0x\""
   ]
  },
  {
   "cell_type": "code",
   "execution_count": null,
   "id": "4c28adfb",
   "metadata": {},
   "outputs": [
    {
     "name": "stderr",
     "output_type": "stream",
     "text": [
      "auth_token was transferred to model_kwargs.\n",
      "                    Please confirm that auth_token is what you intended.\n"
     ]
    }
   ],
   "source": [
    "import os\n",
    "from langchain_community.llms import Replicate\n",
    "\n",
    "# Set the Replicate API token\n",
    "replicate_api_token = \"r8_1tXV1Jxf2JBIiunu0PrGCEuYgOabv251OjQ0x\"\n",
    "os.environ[\"REPLICATE_API_TOKEN\"] = replicate_api_token\n",
    "\n",
    "# Create Replicate instance with the authentication token\n",
    "llm = Replicate(\n",
    "    model=\"meta/codellama-13b:511fc67df70ee2d584375b6f1463d8d7d9ca7e6131e0f0a879d32d99bce17351\",\n",
    "    model_kwargs={\n",
    "        \"top_k\": 250,\n",
    "        \"top_p\": 0.95,\n",
    "        \"max_tokens\": 500,\n",
    "        \"temperature\": 0.95,\n",
    "        \"repeat_penalty\": 1.1,\n",
    "        \"presence_penalty\": 0,\n",
    "        \"frequency_penalty\": 0\n",
    "    },\n",
    "    auth_token=replicate_api_token  # Pass the authentication token here\n",
    ")\n",
    "\n",
    "def use_my_model():\n",
    "    prompt = input(\"Enter your prompt: \")\n",
    "    output = llm(prompt)\n",
    "    \n",
    "    for i in range(1, len(output), 1):\n",
    "        print(output[i], end=\"\")\n",
    "\n",
    "use_my_model()\n"
   ]
  },
  {
   "cell_type": "code",
   "execution_count": null,
   "id": "250bbc51",
   "metadata": {},
   "outputs": [],
   "source": []
  },
  {
   "cell_type": "code",
   "execution_count": null,
   "id": "578a3160",
   "metadata": {},
   "outputs": [],
   "source": []
  }
 ],
 "metadata": {
  "kernelspec": {
   "display_name": "Python 3 (ipykernel)",
   "language": "python",
   "name": "python3"
  },
  "language_info": {
   "codemirror_mode": {
    "name": "ipython",
    "version": 3
   },
   "file_extension": ".py",
   "mimetype": "text/x-python",
   "name": "python",
   "nbconvert_exporter": "python",
   "pygments_lexer": "ipython3",
   "version": "3.11.5"
  }
 },
 "nbformat": 4,
 "nbformat_minor": 5
}
